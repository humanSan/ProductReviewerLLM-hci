{
  "nbformat": 4,
  "nbformat_minor": 0,
  "metadata": {
    "colab": {
      "provenance": []
    },
    "kernelspec": {
      "name": "python3",
      "display_name": "Python 3"
    },
    "language_info": {
      "name": "python"
    }
  },
  "cells": [
    {
      "cell_type": "code",
      "execution_count": 1,
      "metadata": {
        "id": "Izxr_9YVh8sx",
        "colab": {
          "base_uri": "https://localhost:8080/"
        },
        "outputId": "ef42f504-dd75-48ce-f621-44961059ad60"
      },
      "outputs": [
        {
          "output_type": "stream",
          "name": "stdout",
          "text": [
            "Collecting vaderSentiment\n",
            "  Downloading vaderSentiment-3.3.2-py2.py3-none-any.whl.metadata (572 bytes)\n",
            "Requirement already satisfied: requests in /usr/local/lib/python3.10/dist-packages (from vaderSentiment) (2.32.3)\n",
            "Requirement already satisfied: charset-normalizer<4,>=2 in /usr/local/lib/python3.10/dist-packages (from requests->vaderSentiment) (3.4.0)\n",
            "Requirement already satisfied: idna<4,>=2.5 in /usr/local/lib/python3.10/dist-packages (from requests->vaderSentiment) (3.10)\n",
            "Requirement already satisfied: urllib3<3,>=1.21.1 in /usr/local/lib/python3.10/dist-packages (from requests->vaderSentiment) (2.2.3)\n",
            "Requirement already satisfied: certifi>=2017.4.17 in /usr/local/lib/python3.10/dist-packages (from requests->vaderSentiment) (2024.8.30)\n",
            "Downloading vaderSentiment-3.3.2-py2.py3-none-any.whl (125 kB)\n",
            "\u001b[2K   \u001b[90m━━━━━━━━━━━━━━━━━━━━━━━━━━━━━━━━━━━━━━━━\u001b[0m \u001b[32m126.0/126.0 kB\u001b[0m \u001b[31m2.8 MB/s\u001b[0m eta \u001b[36m0:00:00\u001b[0m\n",
            "\u001b[?25hInstalling collected packages: vaderSentiment\n",
            "Successfully installed vaderSentiment-3.3.2\n"
          ]
        }
      ],
      "source": [
        "!pip install vaderSentiment\n",
        "import pandas as pd\n",
        "import json\n",
        "import gzip\n",
        "from textblob import TextBlob\n",
        "from vaderSentiment.vaderSentiment import SentimentIntensityAnalyzer\n",
        "sentiment = SentimentIntensityAnalyzer()"
      ]
    },
    {
      "cell_type": "code",
      "source": [
        "from google.colab import drive\n",
        "drive.mount('/content/drive')"
      ],
      "metadata": {
        "id": "pO5eUCcNjReZ",
        "colab": {
          "base_uri": "https://localhost:8080/"
        },
        "outputId": "4d19b6d9-c216-4df3-e824-19812ffcbbf8"
      },
      "execution_count": 2,
      "outputs": [
        {
          "output_type": "stream",
          "name": "stdout",
          "text": [
            "Mounted at /content/drive\n"
          ]
        }
      ]
    },
    {
      "cell_type": "code",
      "source": [
        "def read_jsonl_with_error_handling(file_path):\n",
        "    data = []\n",
        "    with open(file_path, 'r', encoding='utf-8') as f:\n",
        "        for line_num, line in enumerate(f, 1):\n",
        "            try:\n",
        "                data.append(json.loads(line))\n",
        "            except json.JSONDecodeError as e:\n",
        "                print(f\"Error parsing line {line_num}: {e}\")\n",
        "                print(f\"Problematic line: {line.strip()}\")\n",
        "    return pd.DataFrame(data)\n",
        "\n",
        "df = read_jsonl_with_error_handling('Appliances.jsonl')"
      ],
      "metadata": {
        "colab": {
          "base_uri": "https://localhost:8080/"
        },
        "id": "uZuHa2SPiah5",
        "outputId": "96c84baf-765c-4d32-a417-777f6909d6ca"
      },
      "execution_count": 4,
      "outputs": [
        {
          "output_type": "stream",
          "name": "stdout",
          "text": [
            "Error parsing line 352807: Unterminated string starting at: line 1 column 74 (char 73)\n",
            "Problematic line: {\"rating\": 5.0, \"title\": \"Great, especially with SF Bay K Cups\", \"text\": \"I am reviewing the &#34;upgraded&#34; version. It seems from other reviews they've solved the problem where sometimes the machine gets clogged. I have had no problems yet. But another idea, if you are worried - San Francisco Bay K Cups, sold on Amazon are both the cheapest K cups out there and surprisingly strong and delicious. Amazon sel\n"
          ]
        }
      ]
    },
    {
      "cell_type": "code",
      "source": [
        "file_path = '/content/drive/My Drive/Electronics.json.gz'\n",
        "data_list = []\n",
        "with gzip.open(file_path, 'rb') as f:\n",
        "    for i, line in enumerate(f):\n",
        "        if i >= 3_000_000:\n",
        "            break\n",
        "        data = json.loads(line.decode('utf-8'))\n",
        "        data_list.append(data)\n",
        "df1 = pd.DataFrame(data_list)"
      ],
      "metadata": {
        "id": "wSaj2JCA0Jqq"
      },
      "execution_count": 5,
      "outputs": []
    },
    {
      "cell_type": "code",
      "source": [
        "def add_sentiment_label(text):\n",
        "    # Get sentiment scores\n",
        "    sentiment_score = sentiment.polarity_scores(text)\n",
        "\n",
        "    # Check compound score for overall sentiment\n",
        "    compound = sentiment_score['compound']\n",
        "\n",
        "    if compound >= 0.75:\n",
        "        return \"This is a very positive review: \" + text\n",
        "    elif 0.05 < compound < 0.75:\n",
        "        return \"This is a positive review: \" + text\n",
        "    elif -0.05 <= compound <= 0.05:\n",
        "        return \"This is a neutral review: \" + text\n",
        "    elif -0.75 < compound < -0.05:\n",
        "        return \"This is a negative review: \" + text\n",
        "    else:  # compound <= -0.75\n",
        "        return \"This is a very negative review: \" + text\n",
        "\n",
        "def word_count(text):\n",
        "    return len(text.split())"
      ],
      "metadata": {
        "id": "6PVSlSb9xy_C"
      },
      "execution_count": 6,
      "outputs": []
    },
    {
      "cell_type": "code",
      "source": [
        "filtered_df = df[df['asin'] == 'B004VV8GOQ']\n",
        "\n",
        "filtered_text = filtered_df['text']\n",
        "\n",
        "filtered_text = filtered_text.str.replace(r'<br\\s*/?>', '', regex=True)\n",
        "filtered_text = filtered_text.str.replace(r'<a[^>]*>(.*?)</a>', '', regex=True)\n",
        "\n",
        "filtered_text = filtered_text[filtered_text.apply(word_count) >= 25]\n",
        "\n",
        "formatted_reviews = pd.DataFrame({'review': filtered_text})\n",
        "\n",
        "output_path = 'IceBucket_text.json'\n",
        "formatted_reviews.to_json(output_path, orient='records', lines=True, force_ascii=False)"
      ],
      "metadata": {
        "id": "t_fwfx1w95ke"
      },
      "execution_count": 7,
      "outputs": []
    },
    {
      "cell_type": "code",
      "source": [
        "filtered_df = df[df['asin'] == 'B002C8HR9A']\n",
        "\n",
        "filtered_text = filtered_df['text']\n",
        "\n",
        "filtered_text = filtered_text.str.replace(r'<br\\s*/?>', '', regex=True)\n",
        "filtered_text = filtered_text.str.replace(r'<a[^>]*>(.*?)</a>', '', regex=True)\n",
        "\n",
        "filtered_text = filtered_text[filtered_text.apply(word_count) >= 25]\n",
        "\n",
        "formatted_reviews = pd.DataFrame({'review': filtered_text})\n",
        "\n",
        "output_path = 'WashingMachine_text.json'\n",
        "formatted_reviews.to_json(output_path, orient='records', lines=True, force_ascii=False)"
      ],
      "metadata": {
        "id": "ngENxef6GskA"
      },
      "execution_count": 8,
      "outputs": []
    },
    {
      "cell_type": "code",
      "source": [
        "filtered_df = df1[df1['asin'] == 'B00007E7C8']\n",
        "\n",
        "filtered_text = filtered_df['reviewText']\n",
        "\n",
        "filtered_text = filtered_text.str.replace(r'<br\\s*/?>', '', regex=True)\n",
        "filtered_text = filtered_text.str.replace(r'<a[^>]*>(.*?)</a>', '', regex=True)\n",
        "\n",
        "filtered_text = filtered_text[filtered_text.apply(word_count) >= 25]\n",
        "\n",
        "formatted_reviews = pd.DataFrame({'review': filtered_text})\n",
        "\n",
        "output_path = 'Headphones_text.json'\n",
        "formatted_reviews.to_json(output_path, orient='records', lines=True, force_ascii=False)"
      ],
      "metadata": {
        "id": "YPrxNBZFGuVn"
      },
      "execution_count": 9,
      "outputs": []
    },
    {
      "cell_type": "code",
      "source": [
        "filtered_df = df1[df1['asin'] == 'B0016CWV3U']\n",
        "\n",
        "filtered_text = filtered_df['reviewText']\n",
        "\n",
        "filtered_text = filtered_text.str.replace(r'<br\\s*/?>', '', regex=True)\n",
        "filtered_text = filtered_text.str.replace(r'<a[^>]*>(.*?)</a>', '', regex=True)\n",
        "\n",
        "filtered_text = filtered_text[filtered_text.apply(word_count) >= 25]\n",
        "\n",
        "formatted_reviews = pd.DataFrame({'review': filtered_text})\n",
        "\n",
        "output_path = 'AlarmClock_text.json'\n",
        "formatted_reviews.to_json(output_path, orient='records', lines=True, force_ascii=False)"
      ],
      "metadata": {
        "id": "R9WpFUseGu1N"
      },
      "execution_count": 10,
      "outputs": []
    },
    {
      "cell_type": "markdown",
      "source": [
        "With Sentiment\n"
      ],
      "metadata": {
        "id": "A1FPgqSHLgeo"
      }
    },
    {
      "cell_type": "code",
      "source": [
        "filtered_df = df[df['asin'] == 'B004VV8GOQ']\n",
        "\n",
        "filtered_text = filtered_df['text'].apply(add_sentiment_label)\n",
        "\n",
        "filtered_text = filtered_text.str.replace(r'<br\\s*/?>', '', regex=True)\n",
        "filtered_text = filtered_text.str.replace(r'<a[^>]*>(.*?)</a>', '', regex=True)\n",
        "\n",
        "filtered_text = filtered_text[filtered_text.apply(word_count) >= 30]\n",
        "\n",
        "formatted_reviews = pd.DataFrame({'review': filtered_text})\n",
        "\n",
        "output_path = 'SentimentIceBucket_text.json'\n",
        "formatted_reviews.to_json(output_path, orient='records', lines=True, force_ascii=False)"
      ],
      "metadata": {
        "id": "UVF1q77B2xRF"
      },
      "execution_count": 11,
      "outputs": []
    },
    {
      "cell_type": "code",
      "source": [
        "filtered_df = df[df['asin'] == 'B002C8HR9A']\n",
        "\n",
        "filtered_text = filtered_df['text'].apply(add_sentiment_label)\n",
        "\n",
        "filtered_text = filtered_text.str.replace(r'<br\\s*/?>', '', regex=True)\n",
        "filtered_text = filtered_text.str.replace(r'<a[^>]*>(.*?)</a>', '', regex=True)\n",
        "\n",
        "filtered_text = filtered_text[filtered_text.apply(word_count) >= 30]\n",
        "\n",
        "formatted_reviews = pd.DataFrame({'review': filtered_text})\n",
        "\n",
        "output_path = 'SentimentWashingMachine_text.json'\n",
        "formatted_reviews.to_json(output_path, orient='records', lines=True, force_ascii=False)"
      ],
      "metadata": {
        "id": "pbE6Spk0EyDQ"
      },
      "execution_count": 12,
      "outputs": []
    },
    {
      "cell_type": "code",
      "source": [
        "filtered_df = df1[df1['asin'] == 'B00007E7C8']\n",
        "\n",
        "filtered_text = filtered_df['reviewText'].apply(add_sentiment_label)\n",
        "\n",
        "filtered_text = filtered_text.str.replace(r'<br\\s*/?>', '', regex=True)\n",
        "filtered_text = filtered_text.str.replace(r'<a[^>]*>(.*?)</a>', '', regex=True)\n",
        "\n",
        "filtered_text = filtered_text[filtered_text.apply(word_count) >= 30]\n",
        "\n",
        "formatted_reviews = pd.DataFrame({'review': filtered_text})\n",
        "\n",
        "output_path = 'SentimentHeadphones_text.json'\n",
        "formatted_reviews.to_json(output_path, orient='records', lines=True, force_ascii=False)"
      ],
      "metadata": {
        "id": "hECEw5aKEyaE"
      },
      "execution_count": 13,
      "outputs": []
    },
    {
      "cell_type": "code",
      "source": [
        "filtered_df = df1[df1['asin'] == 'B0016CWV3U']\n",
        "\n",
        "filtered_text = filtered_df['reviewText'].apply(add_sentiment_label)\n",
        "\n",
        "filtered_text = filtered_text.str.replace(r'<br\\s*/?>', '', regex=True)\n",
        "filtered_text = filtered_text.str.replace(r'<a[^>]*>(.*?)</a>', '', regex=True)\n",
        "\n",
        "filtered_text = filtered_text[filtered_text.apply(word_count) >= 30]\n",
        "\n",
        "formatted_reviews = pd.DataFrame({'review': filtered_text})\n",
        "\n",
        "output_path = 'SentimentAlarmClock_text.json'\n",
        "formatted_reviews.to_json(output_path, orient='records', lines=True, force_ascii=False)"
      ],
      "metadata": {
        "id": "gffYy5F0Eyli"
      },
      "execution_count": 14,
      "outputs": []
    }
  ]
}